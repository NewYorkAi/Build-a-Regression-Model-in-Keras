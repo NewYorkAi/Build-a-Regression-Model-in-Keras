{
 "cells": [
  {
   "cell_type": "raw",
   "id": "32305ce0-ac2f-42ba-b647-7c587c47fc52",
   "metadata": {},
   "source": [
    "Part B\n",
    "\n",
    "This notebook extends Part A by normalizing the data before training the neural network model. The aim is to observe the impact of data normalization on the model's performance, specifically on the mean squared errors (MSEs) from the predictions."
   ]
  },
  {
   "cell_type": "code",
   "execution_count": 6,
   "id": "96cb9731-f2ab-4171-bbaa-c235a1ab8d03",
   "metadata": {
    "tags": []
   },
   "outputs": [],
   "source": [
    "import pandas as pd\n",
    "import numpy as np\n",
    "from keras.models import Sequential\n",
    "from keras.layers import Dense\n",
    "from sklearn.model_selection import train_test_split\n",
    "from sklearn.metrics import mean_squared_error\n",
    "import keras"
   ]
  },
  {
   "cell_type": "code",
   "execution_count": 7,
   "id": "ba520a07-61ea-4f6d-a8bf-8fbce1b3020c",
   "metadata": {
    "tags": []
   },
   "outputs": [],
   "source": [
    "# Load the dataset\n",
    "concrete_data = pd.read_csv('https://s3-api.us-geo.objectstorage.softlayer.net/cf-courses-data/CognitiveClass/DL0101EN/labs/data/concrete_data.csv')\n",
    "\n",
    "# Separate predictors and target\n",
    "predictors = concrete_data[concrete_data.columns[concrete_data.columns != 'Strength']] # all columns except Strength\n",
    "target = concrete_data['Strength'] # Strength column\n",
    "\n",
    "# Normalize predictors\n",
    "predictors_norm = (predictors - predictors.mean()) / predictors.std()\n",
    "n_cols = predictors_norm.shape[1] # number of predictors"
   ]
  },
  {
   "cell_type": "code",
   "execution_count": 8,
   "id": "5bd8e8dd-a1d7-4ad5-9e0d-9daa9b5f05c0",
   "metadata": {
    "tags": []
   },
   "outputs": [],
   "source": [
    "# define regression model\n",
    "def regression_model():\n",
    "    # create model\n",
    "    model = Sequential()\n",
    "    model.add(Dense(10, activation='relu', input_shape=(n_cols,)))\n",
    "    model.add(Dense(1))\n",
    "    \n",
    "    # compile model\n",
    "    model.compile(optimizer='adam', loss='mean_squared_error')\n",
    "    return model"
   ]
  },
  {
   "cell_type": "code",
   "execution_count": 9,
   "id": "e5927343-d0d2-4104-b730-b9c160204512",
   "metadata": {
    "tags": []
   },
   "outputs": [
    {
     "name": "stdout",
     "output_type": "stream",
     "text": [
      "Mean of MSEs with Normalized Data: 374.645\n",
      "Standard Deviation of MSEs with Normalized Data: 85.733\n"
     ]
    }
   ],
   "source": [
    "# Initialize variables for storing mean squared errors\n",
    "mean_squared_errors = []\n",
    "total_iterations = 50\n",
    "epochs = 50\n",
    "\n",
    "for i in range(total_iterations):\n",
    "    # Split the data\n",
    "    X_train, X_test, y_train, y_test = train_test_split(predictors_norm, target, test_size=0.3, random_state=i)\n",
    "    \n",
    "    # Reinitialize the model for a fresh start\n",
    "    model = regression_model()\n",
    "    \n",
    "    # Train the model\n",
    "    model.fit(X_train, y_train, epochs=epochs, verbose=0)\n",
    "    \n",
    "    # Predict and evaluate\n",
    "    y_pred = model.predict(X_test)\n",
    "    mse = mean_squared_error(y_test, y_pred)\n",
    "    mean_squared_errors.append(mse)\n",
    "\n",
    "# Calculate and print the mean and standard deviation of the MSEs\n",
    "mean = np.mean(mean_squared_errors)\n",
    "standard_deviation = np.std(mean_squared_errors)\n",
    "\n",
    "print(\"Mean of MSEs with Normalized Data: {:.3f}\".format(mean))\n",
    "print(\"Standard Deviation of MSEs with Normalized Data: {:.3f}\".format(standard_deviation))"
   ]
  },
  {
   "cell_type": "code",
   "execution_count": null,
   "id": "345e6a24-bc22-419f-980b-c750f926f49d",
   "metadata": {},
   "outputs": [],
   "source": []
  }
 ],
 "metadata": {
  "kernelspec": {
   "display_name": "Python",
   "language": "python",
   "name": "conda-env-python-py"
  },
  "language_info": {
   "codemirror_mode": {
    "name": "ipython",
    "version": 3
   },
   "file_extension": ".py",
   "mimetype": "text/x-python",
   "name": "python",
   "nbconvert_exporter": "python",
   "pygments_lexer": "ipython3",
   "version": "3.7.12"
  }
 },
 "nbformat": 4,
 "nbformat_minor": 5
}
